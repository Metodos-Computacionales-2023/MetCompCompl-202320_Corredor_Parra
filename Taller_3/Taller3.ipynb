{
 "cells": [
  {
   "cell_type": "code",
   "execution_count": 4,
   "metadata": {},
   "outputs": [],
   "source": [
    "import numpy as np \n",
    "import matplotlib.pyplot as plt \n",
    "import copy"
   ]
  },
  {
   "cell_type": "markdown",
   "metadata": {},
   "source": [
    "# 1"
   ]
  },
  {
   "cell_type": "code",
   "execution_count": 205,
   "metadata": {},
   "outputs": [],
   "source": [
    "def mulMatrices(m,v):\n",
    "    r = np.zeros(shape=(len(m),len(v[0])))\n",
    "    for i in range(len(m)):\n",
    "        for j in range(len(v[0])):\n",
    "            for k in range(len(m[0])):\n",
    "                r[i][j] += m[i][k] * v[k][j]\n",
    "    return r"
   ]
  },
  {
   "cell_type": "markdown",
   "metadata": {},
   "source": [
    "a)"
   ]
  },
  {
   "cell_type": "code",
   "execution_count": 206,
   "metadata": {},
   "outputs": [
    {
     "data": {
      "text/plain": [
       "array([[ 39.],\n",
       "       [ 23.],\n",
       "       [ 12.],\n",
       "       [-42.],\n",
       "       [ 32.]])"
      ]
     },
     "execution_count": 206,
     "metadata": {},
     "output_type": "execute_result"
    }
   ],
   "source": [
    "m = np.zeros([5,3])\n",
    "m[0] = np.array([5,-4,-2])\n",
    "m[1] = np.array([5,-5,4])\n",
    "m[2] = np.array([2,5,-4])\n",
    "m[3] = np.array([-5,4,3])\n",
    "m[4] = np.array([3,-4,-3])\n",
    "\n",
    "n = np.zeros([3,1])\n",
    "n[0][0] = 5\n",
    "n[1][0] = -2\n",
    "n[2][0] = -3\n",
    "\n",
    "mulMatrices(m,n)"
   ]
  },
  {
   "cell_type": "markdown",
   "metadata": {},
   "source": [
    "b) No se puede ya que la matriz no cumple las dimenciones para la multiplicacion"
   ]
  },
  {
   "cell_type": "markdown",
   "metadata": {},
   "source": [
    "c) "
   ]
  },
  {
   "cell_type": "code",
   "execution_count": 207,
   "metadata": {},
   "outputs": [
    {
     "data": {
      "text/plain": [
       "array([[ -6., -12.,  12.,   6.,  10.],\n",
       "       [-15., -30.,  30.,  15.,  25.],\n",
       "       [ 18.,  36., -36., -18., -30.],\n",
       "       [-15., -30.,  30.,  15.,  25.]])"
      ]
     },
     "execution_count": 207,
     "metadata": {},
     "output_type": "execute_result"
    }
   ],
   "source": [
    "m = np.zeros([4,4])\n",
    "m[0] = np.array([2,-5,5,1])\n",
    "m[1] = np.array([5,2,-7,-6])\n",
    "m[2] = np.array([-6,-1,7,-4])\n",
    "m[3] = np.array([5,4,1,-5])\n",
    "\n",
    "n = np.zeros([4,5])\n",
    "n[0] = np.array([0,4,-7,1,-6])\n",
    "n[0] = np.array([-1,-6,-5,1,1])\n",
    "n[0] = np.array([2,-1,-6,5,-5])\n",
    "n[0] = np.array([-3,-6,6,3,5])\n",
    "\n",
    "mulMatrices(m,n)"
   ]
  },
  {
   "cell_type": "markdown",
   "metadata": {},
   "source": [
    "# 2"
   ]
  },
  {
   "cell_type": "code",
   "execution_count": 208,
   "metadata": {},
   "outputs": [],
   "source": [
    "def eliminacion_gaussiana(M, b):\n",
    "\n",
    "    M = np.column_stack((M, b))\n",
    "    n = len(M)\n",
    "    m = len(M[0])\n",
    "\n",
    "    for i in range(n):\n",
    "        \n",
    "        if M[i,i] == 0.:\n",
    "            sub = copy.copy(M[n-1,:])\n",
    "            M[n-1,:] = M[i,:]\n",
    "            M[i,:] = sub\n",
    "            \n",
    "        M[i,:] /= M[i,i]\n",
    "        \n",
    "        for j in range(i+1,n):\n",
    "            if M[j,i] == 0.: \n",
    "                sub = copy.copy(M[n-1,:])\n",
    "                M[n-1,:] = M[j,:]\n",
    "                M[j,:] = sub\n",
    "\n",
    "                \n",
    "            val = float(M[j,i]/M[i,i])\n",
    "            \n",
    "            for k in range(i,m):\n",
    "                M[j,k] -= val*M[i,k]           \n",
    "                \n",
    "    bFinal = M[:,n]\n",
    "    \n",
    "    return M,bFinal\n",
    "\n",
    "def substitution(M, b):\n",
    "    \n",
    "    n = np.shape(M)[0]\n",
    "\n",
    "    v = np.zeros(n)\n",
    "\n",
    "    for i in range(n-1,-1,-1):\n",
    "        sum = b[i]\n",
    "        for j in range(n-1,i,-1):\n",
    "            sum -= M[i,j]*v[j]\n",
    "        v[i] = sum/M[i,i]\n",
    "\n",
    "    return v"
   ]
  },
  {
   "cell_type": "markdown",
   "metadata": {},
   "source": [
    "a)"
   ]
  },
  {
   "cell_type": "code",
   "execution_count": 209,
   "metadata": {},
   "outputs": [
    {
     "data": {
      "text/plain": [
       "array([0.71428571, 0.85714286, 1.        ])"
      ]
     },
     "execution_count": 209,
     "metadata": {},
     "output_type": "execute_result"
    }
   ],
   "source": [
    "A1 = np.array([[3.,1.,-1.],\\\n",
    "             [1.,-2.,1.],\n",
    "             [4.,-1.,1.]])\n",
    "b1 = np.array([2.,0.,3.])\n",
    "\n",
    "M,b = eliminacion_gaussiana(A1,b1)\n",
    "back_substitution(M,b)"
   ]
  },
  {
   "cell_type": "markdown",
   "metadata": {},
   "source": [
    "b)"
   ]
  },
  {
   "cell_type": "code",
   "execution_count": 210,
   "metadata": {},
   "outputs": [
    {
     "data": {
      "text/plain": [
       "array([ 0.71052632, -0.39473684, -0.31578947])"
      ]
     },
     "execution_count": 210,
     "metadata": {},
     "output_type": "execute_result"
    }
   ],
   "source": [
    "A1 = np.array([[1.,1.,1.],\\\n",
    "             [0.,-8.,10.],\n",
    "             [4.,-8.,0.]])\n",
    "b1 = np.array([0.,0.,6.])\n",
    "\n",
    "M,b = eliminacion_gaussiana(A1,b1)\n",
    "back_substitution(M,b)"
   ]
  },
  {
   "cell_type": "markdown",
   "metadata": {},
   "source": [
    "# 3"
   ]
  },
  {
   "cell_type": "code",
   "execution_count": 1,
   "metadata": {},
   "outputs": [],
   "source": [
    "def initialize(m1,m2,m3, k11,k12, k13, k21,k22,k23, k31,k32,k33):\n",
    "    matriz= np.array([[k11/m1, k12/m1, k13/m1], [k21/m2, k22/m2, k23/m2], [k31/m3, k32/m3, k33/m3]])\n",
    "\n",
    "    return  matriz"
   ]
  },
  {
   "cell_type": "code",
   "execution_count": 2,
   "metadata": {},
   "outputs": [],
   "source": [
    "def power_method( matriz, iterations=10000, tolerancia= 1e-10):\n",
    "\n",
    "    eigenvector= np.ones(3)\n",
    "    error=float('inf')\n",
    "    vector= np.ones(3)\n",
    "    i=0\n",
    "    while error> tolerancia and i< iterations:\n",
    "\n",
    "        matrix_v= (np.dot(matriz, eigenvector))\n",
    "        eigenvalue= np.dot(eigenvector, matrix_v)\n",
    "        eigenvector= matrix_v/np.linalg.norm(matrix_v)\n",
    "        vector= eigenvector* np.linalg.norm(matrix_v)\n",
    "\n",
    "        if i> 0:\n",
    "            error= np.abs((eigenvalue- valor)/ valor)\n",
    "\n",
    "        valor= eigenvalue\n",
    "        i+=1\n",
    "    \n",
    "    return eigenvalue, vector"
   ]
  },
  {
   "cell_type": "code",
   "execution_count": 5,
   "metadata": {},
   "outputs": [
    {
     "name": "stdout",
     "output_type": "stream",
     "text": [
      "k= 1\n",
      "[[-2.  1.  0.]\n",
      " [ 1. -2.  1.]\n",
      " [ 0.  1. -2.]]\n",
      "Max eigenvlue -1.9999999999999996\n",
      "Max eigenvector [-7.07106781e-01  1.57009246e-16 -7.07106781e-01]\n",
      "Min eigenvlue -0.5857864376271786\n",
      "Min eigenvector [-0.50000038 -0.70710625 -0.50000038]\n",
      "Max frecuency 1.414213562373095\n",
      "Min frecuency 0.7653668647303583\n"
     ]
    }
   ],
   "source": [
    "m1=m2=m3= 1\n",
    "k=1\n",
    "\n",
    "k11=k22=k33=-2*k\n",
    "k12=k21=k23=k32=k\n",
    "k13=k31=0\n",
    "\n",
    "matrix= initialize(m1,m2,m3, k11,k12, k13, k21,k22,k23, k31,k32,k33)\n",
    "invmatrix=np.linalg.inv(matrix)\n",
    "\n",
    "max_eigenvalue,max_eigenvector= power_method(matrix)\n",
    "max_eigenvector= np.dot(invmatrix, max_eigenvector)\n",
    "min_eigenvalue,min_eigenvector= power_method(invmatrix)\n",
    "min_eigenvalue= 1/min_eigenvalue\n",
    "min_eigenvector= np.dot(matrix, min_eigenvector)\n",
    "\n",
    "max_frecuency= np.sqrt((-1)*max_eigenvalue)\n",
    "min_frecuency= np.sqrt((-1)*min_eigenvalue)\n",
    "\n",
    "print(\"k=\", k)\n",
    "print(matrix)\n",
    "print(\"Max eigenvlue\", max_eigenvalue)\n",
    "print(\"Max eigenvector\", max_eigenvector)\n",
    "print(\"Min eigenvlue\", min_eigenvalue)\n",
    "print(\"Min eigenvector\", min_eigenvector)\n",
    "print(\"Max frecuency\", max_frecuency)\n",
    "print(\"Min frecuency\", min_frecuency)"
   ]
  }
 ],
 "metadata": {
  "kernelspec": {
   "display_name": "Python 3",
   "language": "python",
   "name": "python3"
  },
  "language_info": {
   "codemirror_mode": {
    "name": "ipython",
    "version": 3
   },
   "file_extension": ".py",
   "mimetype": "text/x-python",
   "name": "python",
   "nbconvert_exporter": "python",
   "pygments_lexer": "ipython3",
   "version": "3.11.5"
  }
 },
 "nbformat": 4,
 "nbformat_minor": 2
}
